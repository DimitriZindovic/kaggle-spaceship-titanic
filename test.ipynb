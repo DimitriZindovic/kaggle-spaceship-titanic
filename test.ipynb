{
 "cells": [
  {
   "cell_type": "markdown",
   "id": "e7c8589a",
   "metadata": {},
   "source": [
    "## Imports"
   ]
  },
  {
   "cell_type": "code",
   "execution_count": 284,
   "id": "f912a58e",
   "metadata": {},
   "outputs": [],
   "source": [
    "import kaggle\n",
    "import pandas as pd\n",
    "import matplotlib.pyplot as plt\n",
    "import numpy as np\n",
    "import seaborn as sns\n",
    "import os, sys, datetime, shlex, subprocess, json, pathlib\n",
    "from sklearn.ensemble import RandomForestClassifier\n",
    "from scipy.stats import chi2_contingency"
   ]
  },
  {
   "cell_type": "markdown",
   "id": "a734c8f2",
   "metadata": {},
   "source": [
    "## Loads"
   ]
  },
  {
   "cell_type": "code",
   "execution_count": 285,
   "id": "9175db94",
   "metadata": {},
   "outputs": [],
   "source": [
    "df_test = pd.read_csv('data/test.csv')\n",
    "df_train = pd.read_csv('data/train.csv')"
   ]
  },
  {
   "cell_type": "markdown",
   "id": "62cf4625",
   "metadata": {},
   "source": [
    "## Overview"
   ]
  },
  {
   "cell_type": "code",
   "execution_count": 286,
   "id": "a97cb26f",
   "metadata": {},
   "outputs": [
    {
     "data": {
      "text/html": [
       "<div>\n",
       "<style scoped>\n",
       "    .dataframe tbody tr th:only-of-type {\n",
       "        vertical-align: middle;\n",
       "    }\n",
       "\n",
       "    .dataframe tbody tr th {\n",
       "        vertical-align: top;\n",
       "    }\n",
       "\n",
       "    .dataframe thead th {\n",
       "        text-align: right;\n",
       "    }\n",
       "</style>\n",
       "<table border=\"1\" class=\"dataframe\">\n",
       "  <thead>\n",
       "    <tr style=\"text-align: right;\">\n",
       "      <th></th>\n",
       "      <th>PassengerId</th>\n",
       "      <th>HomePlanet</th>\n",
       "      <th>CryoSleep</th>\n",
       "      <th>Cabin</th>\n",
       "      <th>Destination</th>\n",
       "      <th>Age</th>\n",
       "      <th>VIP</th>\n",
       "      <th>RoomService</th>\n",
       "      <th>FoodCourt</th>\n",
       "      <th>ShoppingMall</th>\n",
       "      <th>Spa</th>\n",
       "      <th>VRDeck</th>\n",
       "      <th>Name</th>\n",
       "      <th>Transported</th>\n",
       "    </tr>\n",
       "  </thead>\n",
       "  <tbody>\n",
       "    <tr>\n",
       "      <th>0</th>\n",
       "      <td>0001_01</td>\n",
       "      <td>Europa</td>\n",
       "      <td>False</td>\n",
       "      <td>B/0/P</td>\n",
       "      <td>TRAPPIST-1e</td>\n",
       "      <td>39.0</td>\n",
       "      <td>False</td>\n",
       "      <td>0.0</td>\n",
       "      <td>0.0</td>\n",
       "      <td>0.0</td>\n",
       "      <td>0.0</td>\n",
       "      <td>0.0</td>\n",
       "      <td>Maham Ofracculy</td>\n",
       "      <td>False</td>\n",
       "    </tr>\n",
       "    <tr>\n",
       "      <th>1</th>\n",
       "      <td>0002_01</td>\n",
       "      <td>Earth</td>\n",
       "      <td>False</td>\n",
       "      <td>F/0/S</td>\n",
       "      <td>TRAPPIST-1e</td>\n",
       "      <td>24.0</td>\n",
       "      <td>False</td>\n",
       "      <td>109.0</td>\n",
       "      <td>9.0</td>\n",
       "      <td>25.0</td>\n",
       "      <td>549.0</td>\n",
       "      <td>44.0</td>\n",
       "      <td>Juanna Vines</td>\n",
       "      <td>True</td>\n",
       "    </tr>\n",
       "    <tr>\n",
       "      <th>2</th>\n",
       "      <td>0003_01</td>\n",
       "      <td>Europa</td>\n",
       "      <td>False</td>\n",
       "      <td>A/0/S</td>\n",
       "      <td>TRAPPIST-1e</td>\n",
       "      <td>58.0</td>\n",
       "      <td>True</td>\n",
       "      <td>43.0</td>\n",
       "      <td>3576.0</td>\n",
       "      <td>0.0</td>\n",
       "      <td>6715.0</td>\n",
       "      <td>49.0</td>\n",
       "      <td>Altark Susent</td>\n",
       "      <td>False</td>\n",
       "    </tr>\n",
       "    <tr>\n",
       "      <th>3</th>\n",
       "      <td>0003_02</td>\n",
       "      <td>Europa</td>\n",
       "      <td>False</td>\n",
       "      <td>A/0/S</td>\n",
       "      <td>TRAPPIST-1e</td>\n",
       "      <td>33.0</td>\n",
       "      <td>False</td>\n",
       "      <td>0.0</td>\n",
       "      <td>1283.0</td>\n",
       "      <td>371.0</td>\n",
       "      <td>3329.0</td>\n",
       "      <td>193.0</td>\n",
       "      <td>Solam Susent</td>\n",
       "      <td>False</td>\n",
       "    </tr>\n",
       "    <tr>\n",
       "      <th>4</th>\n",
       "      <td>0004_01</td>\n",
       "      <td>Earth</td>\n",
       "      <td>False</td>\n",
       "      <td>F/1/S</td>\n",
       "      <td>TRAPPIST-1e</td>\n",
       "      <td>16.0</td>\n",
       "      <td>False</td>\n",
       "      <td>303.0</td>\n",
       "      <td>70.0</td>\n",
       "      <td>151.0</td>\n",
       "      <td>565.0</td>\n",
       "      <td>2.0</td>\n",
       "      <td>Willy Santantines</td>\n",
       "      <td>True</td>\n",
       "    </tr>\n",
       "  </tbody>\n",
       "</table>\n",
       "</div>"
      ],
      "text/plain": [
       "  PassengerId HomePlanet CryoSleep  Cabin  Destination   Age    VIP  \\\n",
       "0     0001_01     Europa     False  B/0/P  TRAPPIST-1e  39.0  False   \n",
       "1     0002_01      Earth     False  F/0/S  TRAPPIST-1e  24.0  False   \n",
       "2     0003_01     Europa     False  A/0/S  TRAPPIST-1e  58.0   True   \n",
       "3     0003_02     Europa     False  A/0/S  TRAPPIST-1e  33.0  False   \n",
       "4     0004_01      Earth     False  F/1/S  TRAPPIST-1e  16.0  False   \n",
       "\n",
       "   RoomService  FoodCourt  ShoppingMall     Spa  VRDeck               Name  \\\n",
       "0          0.0        0.0           0.0     0.0     0.0    Maham Ofracculy   \n",
       "1        109.0        9.0          25.0   549.0    44.0       Juanna Vines   \n",
       "2         43.0     3576.0           0.0  6715.0    49.0      Altark Susent   \n",
       "3          0.0     1283.0         371.0  3329.0   193.0       Solam Susent   \n",
       "4        303.0       70.0         151.0   565.0     2.0  Willy Santantines   \n",
       "\n",
       "   Transported  \n",
       "0        False  \n",
       "1         True  \n",
       "2        False  \n",
       "3        False  \n",
       "4         True  "
      ]
     },
     "execution_count": 286,
     "metadata": {},
     "output_type": "execute_result"
    }
   ],
   "source": [
    "df_train.head()"
   ]
  },
  {
   "cell_type": "markdown",
   "id": "438b426f",
   "metadata": {},
   "source": [
    "## NaN value"
   ]
  },
  {
   "cell_type": "code",
   "execution_count": 287,
   "id": "2772d855",
   "metadata": {},
   "outputs": [
    {
     "data": {
      "text/plain": [
       "PassengerId       0\n",
       "HomePlanet      201\n",
       "CryoSleep       217\n",
       "Cabin           199\n",
       "Destination     182\n",
       "Age             179\n",
       "VIP             203\n",
       "RoomService     181\n",
       "FoodCourt       183\n",
       "ShoppingMall    208\n",
       "Spa             183\n",
       "VRDeck          188\n",
       "Name            200\n",
       "Transported       0\n",
       "dtype: int64"
      ]
     },
     "execution_count": 287,
     "metadata": {},
     "output_type": "execute_result"
    }
   ],
   "source": [
    "df_train.isna().sum()"
   ]
  },
  {
   "cell_type": "markdown",
   "id": "ebcf1b74",
   "metadata": {},
   "source": [
    "## Number unique values and types"
   ]
  },
  {
   "cell_type": "code",
   "execution_count": 288,
   "id": "d1e05a1d",
   "metadata": {},
   "outputs": [
    {
     "data": {
      "text/html": [
       "<div>\n",
       "<style scoped>\n",
       "    .dataframe tbody tr th:only-of-type {\n",
       "        vertical-align: middle;\n",
       "    }\n",
       "\n",
       "    .dataframe tbody tr th {\n",
       "        vertical-align: top;\n",
       "    }\n",
       "\n",
       "    .dataframe thead th {\n",
       "        text-align: right;\n",
       "    }\n",
       "</style>\n",
       "<table border=\"1\" class=\"dataframe\">\n",
       "  <thead>\n",
       "    <tr style=\"text-align: right;\">\n",
       "      <th></th>\n",
       "      <th>dtype</th>\n",
       "      <th>unique_values</th>\n",
       "    </tr>\n",
       "  </thead>\n",
       "  <tbody>\n",
       "    <tr>\n",
       "      <th>PassengerId</th>\n",
       "      <td>object</td>\n",
       "      <td>8693</td>\n",
       "    </tr>\n",
       "    <tr>\n",
       "      <th>HomePlanet</th>\n",
       "      <td>object</td>\n",
       "      <td>3</td>\n",
       "    </tr>\n",
       "    <tr>\n",
       "      <th>CryoSleep</th>\n",
       "      <td>object</td>\n",
       "      <td>2</td>\n",
       "    </tr>\n",
       "    <tr>\n",
       "      <th>Cabin</th>\n",
       "      <td>object</td>\n",
       "      <td>6560</td>\n",
       "    </tr>\n",
       "    <tr>\n",
       "      <th>Destination</th>\n",
       "      <td>object</td>\n",
       "      <td>3</td>\n",
       "    </tr>\n",
       "    <tr>\n",
       "      <th>Age</th>\n",
       "      <td>float64</td>\n",
       "      <td>80</td>\n",
       "    </tr>\n",
       "    <tr>\n",
       "      <th>VIP</th>\n",
       "      <td>object</td>\n",
       "      <td>2</td>\n",
       "    </tr>\n",
       "    <tr>\n",
       "      <th>RoomService</th>\n",
       "      <td>float64</td>\n",
       "      <td>1273</td>\n",
       "    </tr>\n",
       "    <tr>\n",
       "      <th>FoodCourt</th>\n",
       "      <td>float64</td>\n",
       "      <td>1507</td>\n",
       "    </tr>\n",
       "    <tr>\n",
       "      <th>ShoppingMall</th>\n",
       "      <td>float64</td>\n",
       "      <td>1115</td>\n",
       "    </tr>\n",
       "    <tr>\n",
       "      <th>Spa</th>\n",
       "      <td>float64</td>\n",
       "      <td>1327</td>\n",
       "    </tr>\n",
       "    <tr>\n",
       "      <th>VRDeck</th>\n",
       "      <td>float64</td>\n",
       "      <td>1306</td>\n",
       "    </tr>\n",
       "    <tr>\n",
       "      <th>Name</th>\n",
       "      <td>object</td>\n",
       "      <td>8473</td>\n",
       "    </tr>\n",
       "    <tr>\n",
       "      <th>Transported</th>\n",
       "      <td>bool</td>\n",
       "      <td>2</td>\n",
       "    </tr>\n",
       "  </tbody>\n",
       "</table>\n",
       "</div>"
      ],
      "text/plain": [
       "                dtype  unique_values\n",
       "PassengerId    object           8693\n",
       "HomePlanet     object              3\n",
       "CryoSleep      object              2\n",
       "Cabin          object           6560\n",
       "Destination    object              3\n",
       "Age           float64             80\n",
       "VIP            object              2\n",
       "RoomService   float64           1273\n",
       "FoodCourt     float64           1507\n",
       "ShoppingMall  float64           1115\n",
       "Spa           float64           1327\n",
       "VRDeck        float64           1306\n",
       "Name           object           8473\n",
       "Transported      bool              2"
      ]
     },
     "execution_count": 288,
     "metadata": {},
     "output_type": "execute_result"
    }
   ],
   "source": [
    "pd.DataFrame({\"dtype\": df_train.dtypes, \"unique_values\": df_train.nunique()})"
   ]
  },
  {
   "cell_type": "markdown",
   "id": "acb2e4d6",
   "metadata": {},
   "source": [
    "## Check Transported / CryoSleep"
   ]
  },
  {
   "cell_type": "code",
   "execution_count": 289,
   "id": "900ca067",
   "metadata": {},
   "outputs": [
    {
     "data": {
      "image/png": "[encoded data removed]",
      "text/plain": [
       "<Figure size 640x480 with 1 Axes>"
      ]
     },
     "metadata": {},
     "output_type": "display_data"
    }
   ],
   "source": [
    "sns.countplot(data=df_train, x='CryoSleep', hue='Transported')\n",
    "plt.title(\"Transported / CryoSleep\")\n",
    "plt.show()"
   ]
  },
  {
   "cell_type": "markdown",
   "id": "cd2eaee1",
   "metadata": {},
   "source": [
    "## Check VIP / Cabin"
   ]
  },
  {
   "cell_type": "code",
   "execution_count": 290,
   "id": "37ea0025",
   "metadata": {},
   "outputs": [
    {
     "name": "stdout",
     "output_type": "stream",
     "text": [
      "Number of VIP passengers without a cabin : 6\n"
     ]
    }
   ],
   "source": [
    "nb_vip_no_cabin = df_train[(df_train['VIP'] == True) & (df_train['Cabin'].isna())].shape[0]\n",
    "print(\"Number of VIP passengers without a cabin :\", nb_vip_no_cabin)"
   ]
  },
  {
   "cell_type": "markdown",
   "id": "c59fd76a",
   "metadata": {},
   "source": [
    "## Check HomePlanet / Transported"
   ]
  },
  {
   "cell_type": "code",
   "execution_count": 291,
   "id": "7acb9a4e",
   "metadata": {},
   "outputs": [
    {
     "data": {
      "image/png": "[encoded data removed]",
      "text/plain": [
       "<Figure size 800x400 with 1 Axes>"
      ]
     },
     "metadata": {},
     "output_type": "display_data"
    }
   ],
   "source": [
    "if df_train['Transported'].dtype == bool or df_train['Transported'].dropna().isin([True, False]).all():\n",
    "    df_train['Transported'] = df_train['Transported'].astype(int)\n",
    "else:\n",
    "    df_train['Transported'] = df_train['Transported'].map({True:1, False:0, \"True\":1, \"False\":0}).astype(int)\n",
    "\n",
    "df_train = df_train.copy()\n",
    "df_train['HomePlanet'] = df_train['HomePlanet'].fillna(\"Unknown\")\n",
    "\n",
    "ct = pd.crosstab(df_train['HomePlanet'], df_train['Transported'])\n",
    "ct.columns = ['Not_Transported(0)', 'Transported(1)']\n",
    "\n",
    "rates = (ct[ 'Transported(1)'] / ct.sum(axis=1)).sort_values(ascending=False)\n",
    "\n",
    "chi2, p, dof, expected = chi2_contingency(ct)\n",
    "n = ct.values.sum()\n",
    "\n",
    "r, c = ct.shape\n",
    "\n",
    "plt.figure(figsize=(8,4))\n",
    "rates.sort_values().plot(kind='bar', rot=0)\n",
    "plt.title(\"Taux de Transported par HomePlanet\")\n",
    "plt.ylabel(\"Taux\")\n",
    "plt.ylim(0,1)\n",
    "plt.tight_layout()\n",
    "plt.show()"
   ]
  },
  {
   "cell_type": "code",
   "execution_count": 292,
   "id": "b04a5090",
   "metadata": {},
   "outputs": [
    {
     "data": {
      "image/png": "[encoded data removed]",
      "text/plain": [
       "<Figure size 800x400 with 1 Axes>"
      ]
     },
     "metadata": {},
     "output_type": "display_data"
    }
   ],
   "source": [
    "ct.plot(kind='bar', stacked=True, figsize=(8,4))\n",
    "plt.title(\"Comptes Transported vs Non-Transported par HomePlanet\")\n",
    "plt.ylabel(\"Nombre de passagers\")\n",
    "plt.xlabel(\"HomePlanet\")\n",
    "plt.legend(loc='best')\n",
    "plt.tight_layout()\n",
    "plt.show()"
   ]
  },
  {
   "cell_type": "code",
   "execution_count": 293,
   "id": "0126bc03",
   "metadata": {},
   "outputs": [
    {
     "data": {
      "image/png": "[encoded data removed]",
      "text/plain": [
       "<Figure size 600x360 with 2 Axes>"
      ]
     },
     "metadata": {},
     "output_type": "display_data"
    }
   ],
   "source": [
    "prop = ct.div(ct.sum(axis=1), axis=0)\n",
    "plt.figure(figsize=(6,3.6))\n",
    "plt.imshow(prop.values, aspect='auto')\n",
    "plt.xticks(ticks=range(prop.shape[1]), labels=prop.columns)\n",
    "plt.yticks(ticks=range(prop.shape[0]), labels=prop.index)\n",
    "plt.colorbar(label=\"Proportion\")\n",
    "plt.title(\"Proportion Transported / Not Transported par HomePlanet\")\n",
    "for i in range(prop.shape[0]):\n",
    "    for j in range(prop.shape[1]):\n",
    "        plt.text(j, i, f\"{prop.values[i, j]:.2f}\", ha='center', va='center')\n",
    "plt.tight_layout()\n",
    "plt.show()"
   ]
  },
  {
   "cell_type": "markdown",
   "id": "664a149b",
   "metadata": {},
   "source": [
    "## Concatenation"
   ]
  },
  {
   "cell_type": "code",
   "execution_count": 294,
   "id": "6f518df5",
   "metadata": {},
   "outputs": [],
   "source": [
    "all_df = pd.concat(\n",
    "    {\"train\": df_train, \"test\": df_test},\n",
    "    axis=0\n",
    ").reset_index(level=0).rename(columns={\"level_0\": \"_split\"})\n",
    "all_df[\"_is_train\"] = (all_df[\"_split\"] == \"train\").astype(int)\n"
   ]
  },
  {
   "cell_type": "markdown",
   "id": "06360945",
   "metadata": {},
   "source": [
    "## Feature engineering\n",
    "\n",
    "### Group from PassengerId:\n",
    "\n",
    "We extract the number after the underscore in PassengerId to create Group. People in the same group often travel together and share similar traits.\n",
    "\n",
    "### Total spending (Expenses) + NoSpend:\n",
    "\n",
    "We add all spending columns (RoomService, FoodCourt, ShoppingMall, Spa, VRDeck) into one Expenses feature.\n",
    "We also create NoSpend (1 if total spending is 0, else 0). This captures a strong pattern: passengers with no spending are often in cryo sleep.\n",
    "\n",
    "### Train-aware imputations (no target leakage):\n",
    "\n",
    "We use only the training rows to learn default values (modes/medians), then apply them to all data.\n",
    "CryoSleep: if missing, set to 1 when Expenses == 0, set to 0 when Expenses > 0, otherwise use the train mode.\n",
    "Age: fill using the median within (HomePlanet, Destination, CryoSleep, VIP) groups; if still missing, use the global train median.\n",
    "Destination: fill with the mode per HomePlanet; if missing, try the mode per Deck; if still missing, use the global train mode.\n",
    "\n",
    "### Type cleanup:\n",
    "\n",
    "We convert:\n",
    "\n",
    "Group to integer (missing → -1)\n",
    "CabinNum to integer (missing → -1)\n",
    "CryoSleep and VIP to 0/1 integers\n",
    "Age and Expenses to floats\n",
    "This keeps the data consistent and ready for modeling."
   ]
  },
  {
   "cell_type": "code",
   "execution_count": null,
   "id": "09e21684",
   "metadata": {},
   "outputs": [],
   "source": [
    "all_df[\"Group\"] = all_df[\"PassengerId\"].astype(str).str.split(\"_\", n=1, expand=True)[1]\n",
    "all_df[\"Group\"] = pd.to_numeric(all_df[\"Group\"], errors=\"coerce\")\n",
    "\n",
    "expense_cols = [c for c in [\"RoomService\",\"FoodCourt\",\"ShoppingMall\",\"Spa\",\"VRDeck\"] if c in all_df.columns]\n",
    "for c in expense_cols:\n",
    "    all_df[c] = pd.to_numeric(all_df[c], errors=\"coerce\")\n",
    "all_df[\"Expenses\"] = all_df[expense_cols].sum(axis=1, min_count=1).fillna(0.0)\n",
    "all_df[\"NoSpend\"]  = (all_df[\"Expenses\"] == 0).astype(int)\n",
    "\n",
    "parts = all_df.get(\"Cabin\", pd.Series(index=all_df.index, dtype=\"object\")).astype(str).str.split(\"/\", expand=True)\n",
    "all_df[\"Deck\"]     = parts[0].where(all_df[\"Cabin\"].notna(), np.nan) if parts.shape[1] >= 1 else np.nan\n",
    "all_df[\"CabinNum\"] = pd.to_numeric(parts[1], errors=\"coerce\") if parts.shape[1] >= 2 else np.nan\n",
    "all_df[\"Side\"]     = parts[2].where(all_df[\"Cabin\"].notna(), np.nan) if parts.shape[1] >= 3 else np.nan\n",
    "\n",
    "train_mask = all_df[\"_is_train\"] == 1\n",
    "\n",
    "cryo_mode = all_df.loc[train_mask, \"CryoSleep\"].mode(dropna=True)\n",
    "cryo_fill = bool(cryo_mode.iloc[0]) if not cryo_mode.empty else False\n",
    "all_df[\"CryoSleep\"] = np.where(\n",
    "    all_df[\"CryoSleep\"].isna(),\n",
    "    np.where(all_df[\"Expenses\"] > 0, 0, np.where(all_df[\"Expenses\"] == 0, 1, cryo_fill)),\n",
    "    all_df[\"CryoSleep\"]\n",
    ")\n",
    "\n",
    "vip_mode = all_df.loc[train_mask, \"VIP\"].mode(dropna=True)\n",
    "vip_fill = bool(vip_mode.iloc[0]) if not vip_mode.empty else False\n",
    "all_df[\"VIP\"] = all_df[\"VIP\"].fillna(vip_fill)\n",
    "\n",
    "age_global = all_df.loc[train_mask, \"Age\"].median()\n",
    "age_group  = all_df.groupby([\"HomePlanet\",\"Destination\",\"CryoSleep\",\"VIP\"])[\"Age\"].transform(\"median\")\n",
    "all_df[\"Age\"] = np.where(all_df[\"Age\"].isna(), age_group, all_df[\"Age\"])\n",
    "all_df[\"Age\"] = all_df[\"Age\"].fillna(age_global)\n",
    "\n",
    "dest_global = all_df.loc[train_mask, \"Destination\"].mode(dropna=True)\n",
    "dest_global = dest_global.iloc[0] if not dest_global.empty else np.nan\n",
    "dest_by_hp  = all_df.groupby(\"HomePlanet\")[\"Destination\"].apply(lambda s: s.mode().iloc[0] if not s.mode().empty else np.nan)\n",
    "dest_by_deck= all_df.groupby(\"Deck\")[\"Destination\"].apply(lambda s: s.mode().iloc[0] if not s.mode().empty else np.nan)\n",
    "all_df[\"Destination\"] = all_df.apply(\n",
    "    lambda r: r[\"Destination\"]\n",
    "    if pd.notna(r[\"Destination\"])\n",
    "    else (dest_by_hp.get(r[\"HomePlanet\"], np.nan) if pd.notna(dest_by_hp.get(r[\"HomePlanet\"], np.nan))\n",
    "          else (dest_by_deck.get(r[\"Deck\"], np.nan) if pd.notna(dest_by_deck.get(r[\"Deck\"], np.nan)) else dest_global)),\n",
    "    axis=1\n",
    ")\n",
    "\n",
    "all_df[\"Group\"]    = all_df[\"Group\"].fillna(-1).astype(int)\n",
    "all_df[\"CabinNum\"] = all_df[\"CabinNum\"].fillna(-1).astype(int)\n",
    "all_df[\"CryoSleep\"]= all_df[\"CryoSleep\"].astype(bool).astype(int)\n",
    "all_df[\"VIP\"]      = all_df[\"VIP\"].astype(bool).astype(int)\n",
    "all_df[\"Age\"]      = all_df[\"Age\"].astype(float)\n",
    "all_df[\"Expenses\"] = all_df[\"Expenses\"].astype(float)\n"
   ]
  },
  {
   "cell_type": "markdown",
   "id": "6b65793a",
   "metadata": {},
   "source": [
    "## Encodage and separation train/test"
   ]
  },
  {
   "cell_type": "code",
   "execution_count": null,
   "id": "03164aaf",
   "metadata": {},
   "outputs": [],
   "source": [
    "num_feats = [\"CryoSleep\",\"VIP\",\"Expenses\",\"NoSpend\",\"Age\",\"Group\",\"CabinNum\"]\n",
    "cat_feats = [c for c in [\"HomePlanet\",\"Destination\",\"Deck\",\"Side\"] if c in all_df.columns]\n",
    "\n",
    "X = pd.get_dummies(all_df[num_feats + cat_feats], columns=cat_feats, dummy_na=True)\n",
    "X_train = X[all_df[\"_is_train\"] == 1]\n",
    "X_test  = X[all_df[\"_is_train\"] == 0]\n",
    "y = all_df[\"Transported\"].astype(bool).astype(int)[all_df[\"_is_train\"] == 1]"
   ]
  },
  {
   "cell_type": "markdown",
   "id": "d170e719",
   "metadata": {},
   "source": [
    "## Train model"
   ]
  },
  {
   "cell_type": "code",
   "execution_count": 297,
   "id": "f86488ae",
   "metadata": {},
   "outputs": [],
   "source": [
    "rf = RandomForestClassifier(\n",
    "    n_estimators=800,\n",
    "    max_depth=None,\n",
    "    min_samples_split=4,\n",
    "    min_samples_leaf=2,\n",
    "    max_features=\"sqrt\",\n",
    "    random_state=42,\n",
    "    n_jobs=-1\n",
    ").fit(X_train, y)"
   ]
  },
  {
   "cell_type": "markdown",
   "id": "0d35a985",
   "metadata": {},
   "source": [
    "## Prediction and submission"
   ]
  },
  {
   "cell_type": "code",
   "execution_count": 298,
   "id": "a95b1660",
   "metadata": {},
   "outputs": [],
   "source": [
    "pred = rf.predict(X_test).astype(bool)\n",
    "submission = pd.DataFrame({\"PassengerId\": test_pid, \"Transported\": pred})\n",
    "submission.to_csv(\"submission.csv\", index=False)"
   ]
  },
  {
   "cell_type": "markdown",
   "id": "59caa0fc",
   "metadata": {},
   "source": [
    "## Submission Kaggle CLI"
   ]
  },
  {
   "cell_type": "code",
   "execution_count": 299,
   "id": "90bf2420",
   "metadata": {},
   "outputs": [
    {
     "data": {
      "text/plain": [
       "CompletedProcess(args=['kaggle', 'competitions', 'submit', '-c', 'spaceship-titanic', '-f', 'submission.csv', '-m', 'RF simple concat + FE propre - 2025-10-15 15:11'], returncode=0, stdout='Successfully submitted to Spaceship Titanic', stderr='\\n  0%|          | 0.00/56.7k [00:00<?, ?B/s]\\n100%|██████████| 56.7k/56.7k [00:00<00:00, 106kB/s]\\n')"
      ]
     },
     "execution_count": 299,
     "metadata": {},
     "output_type": "execute_result"
    }
   ],
   "source": [
    "home = str(pathlib.Path.home())\n",
    "token_path = os.path.join(home, \".kaggle\", \"kaggle.json\")\n",
    "if os.path.exists(token_path):\n",
    "    try:\n",
    "        os.chmod(token_path, 0o600)\n",
    "    except Exception:\n",
    "        pass\n",
    "\n",
    "cmd = f'kaggle competitions submit -c spaceship-titanic -f submission.csv -m \"RF simple concat + FE propre - {datetime.datetime.now():%Y-%m-%d %H:%M}\"'\n",
    "subprocess.run(shlex.split(cmd), capture_output=True, text=True)"
   ]
  }
 ],
 "metadata": {
  "kernelspec": {
   "display_name": ".venv",
   "language": "python",
   "name": "python3"
  },
  "language_info": {
   "codemirror_mode": {
    "name": "ipython",
    "version": 3
   },
   "file_extension": ".py",
   "mimetype": "text/x-python",
   "name": "python",
   "nbconvert_exporter": "python",
   "pygments_lexer": "ipython3",
   "version": "3.13.0"
  }
 },
 "nbformat": 4,
 "nbformat_minor": 5
}
